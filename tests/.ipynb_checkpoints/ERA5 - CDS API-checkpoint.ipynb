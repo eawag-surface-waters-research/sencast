{
 "cells": [
  {
   "cell_type": "code",
   "execution_count": 69,
   "id": "indian-consolidation",
   "metadata": {},
   "outputs": [],
   "source": [
    "import os\n",
    "import json\n",
    "import cdsapi\n",
    "import netCDF4\n",
    "import numpy as np\n",
    "from datetime import datetime"
   ]
  },
  {
   "cell_type": "code",
   "execution_count": 59,
   "id": "renewable-infrared",
   "metadata": {},
   "outputs": [],
   "source": [
    "def download_cds_api(c, folder, dt, product_type=\"reanalysis\", file_format=\"netcdf\", \n",
    "                     variable=\"mean_surface_downward_short_wave_radiation_flux\", area=[49,2,44,14], \n",
    "                     product=\"reanalysis-era5-single-levels\", overwrite=False):\n",
    "    \n",
    "    if not isinstance(dt, datetime):\n",
    "        print(\"Invalid Datetime\")\n",
    "        return False\n",
    "    if not os.path.exists(folder):\n",
    "        print(\"Folder doesn't exist\")\n",
    "        return False\n",
    "        \n",
    "    year = str(dt.year)\n",
    "    month = (\"0\" + str(dt.month))[-2:]\n",
    "    day = (\"0\" + str(dt.day))[-2:]\n",
    "    time = (\"0\" + str(dt.hour))[-2:] + \":00\"\n",
    "    \n",
    "    file = os.path.join(folder, \"ERA5_\"+variable+\"_\" + year + month + day + \"_\" + time)\n",
    "    \n",
    "    if os.path.isfile(file) and not overwrite:\n",
    "        print(\"File already downloaded.\")\n",
    "        return file\n",
    "            \n",
    "    c.retrieve(\n",
    "    product,\n",
    "    {\n",
    "        'product_type': product_type,\n",
    "        'format': file_format,\n",
    "        'variable': variable,\n",
    "        'area': area,\n",
    "        'year': year,\n",
    "        'month': month,\n",
    "        'day': day,\n",
    "        'time': time,\n",
    "    },\n",
    "    file)\n",
    "    return file"
   ]
  },
  {
   "cell_type": "code",
   "execution_count": 98,
   "id": "timely-spine",
   "metadata": {},
   "outputs": [],
   "source": [
    "def closest_point(x, y, xArr, yArr):\n",
    "    array = np.asarray(xArr)\n",
    "    idx = (np.abs(array - x)).argmin()\n",
    "    array = np.asarray(yArr)\n",
    "    idy = (np.abs(array - y)).argmin()\n",
    "    return idx, idy"
   ]
  },
  {
   "cell_type": "code",
   "execution_count": 99,
   "id": "becoming-ethics",
   "metadata": {},
   "outputs": [],
   "source": [
    "def parse_era5_file(file, coords):\n",
    "    nc = netCDF4.Dataset(file,mode='r',format='NETCDF4_CLASSIC')\n",
    "    lon = nc.variables[\"longitude\"][:]\n",
    "    lat = nc.variables[\"latitude\"][:]\n",
    "    values = []\n",
    "    for coord in coords:\n",
    "        idx, idy = closest_point(coord[\"lng\"], coord[\"lat\"], lon, lat)\n",
    "        values.append(float(nc.variables[\"msdwswrf\"][0, idy, idx]))\n",
    "    nc.close()\n",
    "    return values"
   ]
  },
  {
   "cell_type": "code",
   "execution_count": 130,
   "id": "coastal-joyce",
   "metadata": {},
   "outputs": [],
   "source": [
    "def morning_irradiance(c, dt, folder, coords):\n",
    "    a = np.empty((len(coords),4,))\n",
    "    a[:] = np.nan\n",
    "    for i in range(4):\n",
    "        file = download_cds_api(c, \"era5/reanalysis-era5-single-levels\", datetime(dt.year,dt.month,dt.day,i+9,0))\n",
    "        a[:,i] = parse_era5_file(file, coords)\n",
    "    return np.median(a, axis=1)"
   ]
  },
  {
   "cell_type": "code",
   "execution_count": 131,
   "id": "explicit-policy",
   "metadata": {},
   "outputs": [
    {
     "name": "stdout",
     "output_type": "stream",
     "text": [
      "File already downloaded.\n",
      "File already downloaded.\n",
      "File already downloaded.\n",
      "File already downloaded.\n"
     ]
    }
   ],
   "source": [
    "c = cdsapi.Client()\n",
    "dt = datetime(2020,10,1,0,0)\n",
    "folder = \"era5\"\n",
    "with open('coords.json') as json_file:\n",
    "    coords = json.load(json_file)\n",
    "\n",
    "data = morning_irradiance(c, dt, folder, coords)"
   ]
  },
  {
   "cell_type": "code",
   "execution_count": 133,
   "id": "compatible-donor",
   "metadata": {},
   "outputs": [
    {
     "data": {
      "text/plain": [
       "array([544.06388361, 538.85915445, 502.47154916, 544.06388361,\n",
       "       544.06388361, 544.79780106, 544.79780106, 544.06388361,\n",
       "       433.09307119, 534.10975816, 555.39166694, 595.6564653 ,\n",
       "       360.0000372 , 536.67063636, 529.11138186, 537.8908229 ,\n",
       "       536.55023852, 491.76410477, 491.76410477, 522.45313597,\n",
       "       502.47154916, 502.47154916, 502.47154916, 544.79780106,\n",
       "       544.79780106, 562.93441568, 562.93441568, 562.93441568,\n",
       "       562.93441568, 544.79780106, 544.79780106, 233.29922591,\n",
       "       233.29922591, 233.29922591, 360.82430584, 322.17078442])"
      ]
     },
     "execution_count": 133,
     "metadata": {},
     "output_type": "execute_result"
    }
   ],
   "source": [
    "data"
   ]
  },
  {
   "cell_type": "code",
   "execution_count": null,
   "id": "realistic-berkeley",
   "metadata": {},
   "outputs": [],
   "source": []
  },
  {
   "cell_type": "code",
   "execution_count": null,
   "id": "limiting-evidence",
   "metadata": {},
   "outputs": [],
   "source": []
  },
  {
   "cell_type": "code",
   "execution_count": null,
   "id": "outdoor-ecology",
   "metadata": {},
   "outputs": [],
   "source": []
  },
  {
   "cell_type": "code",
   "execution_count": null,
   "id": "external-stocks",
   "metadata": {
    "scrolled": true
   },
   "outputs": [],
   "source": []
  },
  {
   "cell_type": "code",
   "execution_count": null,
   "id": "substantial-machinery",
   "metadata": {},
   "outputs": [],
   "source": []
  },
  {
   "cell_type": "code",
   "execution_count": null,
   "id": "unexpected-egypt",
   "metadata": {},
   "outputs": [],
   "source": []
  },
  {
   "cell_type": "code",
   "execution_count": null,
   "id": "inclusive-success",
   "metadata": {},
   "outputs": [],
   "source": []
  },
  {
   "cell_type": "code",
   "execution_count": null,
   "id": "polar-probe",
   "metadata": {},
   "outputs": [],
   "source": []
  }
 ],
 "metadata": {
  "kernelspec": {
   "display_name": "sencast-new",
   "language": "python",
   "name": "sencast-new"
  },
  "language_info": {
   "codemirror_mode": {
    "name": "ipython",
    "version": 3
   },
   "file_extension": ".py",
   "mimetype": "text/x-python",
   "name": "python",
   "nbconvert_exporter": "python",
   "pygments_lexer": "ipython3",
   "version": "3.7.2"
  }
 },
 "nbformat": 4,
 "nbformat_minor": 5
}
